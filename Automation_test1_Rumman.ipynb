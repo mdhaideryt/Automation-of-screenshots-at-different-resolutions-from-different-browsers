{
 "cells": [
  {
   "cell_type": "code",
   "execution_count": 4,
   "id": "4d644b5c-d679-43ae-a70c-f2741008c5ae",
   "metadata": {},
   "outputs": [
    {
     "ename": "NameError",
     "evalue": "name 'firefox_driver' is not defined",
     "output_type": "error",
     "traceback": [
      "\u001b[1;31m---------------------------------------------------------------------------\u001b[0m",
      "\u001b[1;31mNameError\u001b[0m                                 Traceback (most recent call last)",
      "Cell \u001b[1;32mIn[4], line 36\u001b[0m\n\u001b[0;32m     34\u001b[0m     width, height \u001b[38;5;241m=\u001b[39m resolution\n\u001b[0;32m     35\u001b[0m     \u001b[38;5;28;01mfor\u001b[39;00m url \u001b[38;5;129;01min\u001b[39;00m urls:\n\u001b[1;32m---> 36\u001b[0m         set_resolution_and_screenshot(\u001b[43mfirefox_driver\u001b[49m, width, height, url, \u001b[38;5;124m\"\u001b[39m\u001b[38;5;124mFirefox\u001b[39m\u001b[38;5;124m\"\u001b[39m)\n\u001b[0;32m     38\u001b[0m safari_driver \u001b[38;5;241m=\u001b[39m webdriver\u001b[38;5;241m.\u001b[39mSafari()\n\u001b[0;32m     39\u001b[0m \u001b[38;5;28;01mfor\u001b[39;00m resolution \u001b[38;5;129;01min\u001b[39;00m resolutions:\n",
      "\u001b[1;31mNameError\u001b[0m: name 'firefox_driver' is not defined"
     ]
    }
   ],
   "source": [
    "import os\n",
    "from selenium import webdriver\n",
    "from selenium.webdriver.common.keys import Keys\n",
    "from selenium.webdriver.common.desired_capabilities import DesiredCapabilities\n",
    "from datetime import datetime\n",
    "\n",
    "def set_resolution_and_screenshot(driver, width, height, url, browser_name):\n",
    "    driver.set_window_size(width, height)\n",
    "    driver.get(url)\n",
    "    screenshot_folder = os.path.join(\"C:\\\\Users\\\\MD RUMMAN HAIDER\\\\Downloads\\\\Turing_Rumman\", browser_name)\n",
    "    resolution_folder = os.path.join(screenshot_folder, f\"{width}x{height}\")\n",
    "    os.makedirs(resolution_folder, exist_ok=True)\n",
    "    timestamp = datetime.now().strftime(\"%Y-%m-%d_%H-%M-%S\")\n",
    "    screenshot_path = os.path.join(resolution_folder, f\"Screenshot-{timestamp}.png\")\n",
    "    driver.save_screenshot(screenshot_path)\n",
    "\n",
    "urls = [\n",
    "    \"https://www.getcalley.com/\",\n",
    "    \"https://www.getcalley.com/calley-call-from-browser/\",\n",
    "    \"https://www.getcalley.com/calley-pro-features/\",\n",
    "    \"https://www.getcalley.com/best-auto-dialer-app/\",\n",
    "    \"https://www.getcalley.com/how-calley-auto-dialer-app-works/\"\n",
    "]\n",
    "resolutions = [(1920, 1080), (1366, 768), (1536, 864)]\n",
    "\n",
    "chrome_driver = webdriver.Chrome()\n",
    "for resolution in resolutions:\n",
    "    width, height = resolution\n",
    "    for url in urls:\n",
    "        set_resolution_and_screenshot(chrome_driver, width, height, url, \"Chrome\")\n",
    "\n",
    "safari_driver = webdriver.Firefox()\n",
    "for resolution in resolutions:\n",
    "    width, height = resolution\n",
    "    for url in urls:\n",
    "        set_resolution_and_screenshot(firefox_driver, width, height, url, \"Firefox\")\n",
    "\n",
    "safari_driver = webdriver.Safari()\n",
    "for resolution in resolutions:\n",
    "    width, height = resolution\n",
    "    for url in urls:\n",
    "        set_resolution_and_screenshot(safari_driver, width, height, url, \"Safari\")\n",
    "\n",
    "chrome_driver.quit()\n",
    "firefox_driver.quit()\n",
    "safari_driver.quit()\n"
   ]
  },
  {
   "cell_type": "code",
   "execution_count": null,
   "id": "dc2c3ac0-1573-4095-a339-5c5dc8e97182",
   "metadata": {},
   "outputs": [],
   "source": []
  }
 ],
 "metadata": {
  "kernelspec": {
   "display_name": "Python 3 (ipykernel)",
   "language": "python",
   "name": "python3"
  },
  "language_info": {
   "codemirror_mode": {
    "name": "ipython",
    "version": 3
   },
   "file_extension": ".py",
   "mimetype": "text/x-python",
   "name": "python",
   "nbconvert_exporter": "python",
   "pygments_lexer": "ipython3",
   "version": "3.12.3"
  }
 },
 "nbformat": 4,
 "nbformat_minor": 5
}
